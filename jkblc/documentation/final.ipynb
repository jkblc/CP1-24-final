{
 "cells": [
  {
   "cell_type": "markdown",
   "id": "2aff4053",
   "metadata": {},
   "source": [
    "\n",
    "# **Final Project Documentation: GPS Motion Analysis**\n",
    "\n",
    "This Jupyter Notebook contains the documentation for the final project. It includes an analysis of GPS motion data collected using the Phyphox app, with corresponding figures generated through Python functions implemented in `final.py`.\n",
    "\n",
    "---\n",
    "\n",
    "## **How to Run the Code**\n",
    "\n",
    "1. **Set Up the Environment:**\n",
    "   - Clone the repository and navigate to the project folder.\n",
    "   - Install the required dependencies using `pip install -r code/requirements.txt`.\n",
    "\n",
    "2. **Run This Notebook:**\n",
    "   - Launch Jupyter Notebook with `jupyter notebook documentation/final.ipynb`.\n",
    "\n",
    "3. **Expected Output:**\n",
    "   - Figures of GPS motion analysis, FFT analysis, and inverse FFT.\n",
    "\n",
    "---\n",
    "\n",
    "## **Bibliography**\n",
    "\n",
    "- Phyphox App Documentation: [https://phyphox.org](https://phyphox.org)\n",
    "- SciPy Documentation: [https://scipy.org](https://scipy.org)\n",
    "- NumPy Documentation: [https://numpy.org](https://numpy.org)\n",
    "- Matplotlib Documentation: [https://matplotlib.org](https://matplotlib.org)\n"
   ]
  },
  {
   "cell_type": "code",
   "execution_count": 16,
   "id": "fbadb22d",
   "metadata": {},
   "outputs": [
    {
     "name": "stdout",
     "output_type": "stream",
     "text": [
      "Modules imported successfully!\n"
     ]
    }
   ],
   "source": [
    "\n",
    "import os\n",
    "import numpy as np\n",
    "import matplotlib.pyplot as plt\n",
    "from scipy.optimize import curve_fit\n",
    "# Fix import path for final.py\n",
    "import sys\n",
    "\n",
    "# Navigate to the correct folder where final.py exists\n",
    "module_path = os.path.abspath(os.path.join('..', 'code'))\n",
    "\n",
    "# Add to system path if not already included\n",
    "if module_path not in sys.path:\n",
    "    sys.path.append(module_path)\n",
    "\n",
    "# Now import the required functions\n",
    "from final import (\n",
    "    parse_temperature_from_markdown,\n",
    "    list_markdown_files,\n",
    "    non_linear_fit,\n",
    "    fft_with_check,\n",
    "    inverse_fft,\n",
    "    calculate_frequency_axis\n",
    ")\n",
    "\n",
    "print(\"Modules imported successfully!\")\n"
   ]
  },
  {
   "cell_type": "code",
   "execution_count": 29,
   "id": "5f3809f4",
   "metadata": {},
   "outputs": [
    {
     "name": "stdout",
     "output_type": "stream",
     "text": [
      "['/workspaces/CP1-24-final/jkblc/data/F15_sinewalk.md', '/workspaces/CP1-24-final/jkblc/data/F08_sinewalk.md', '/workspaces/CP1-24-final/jkblc/data/F09_sinewalk.md', '/workspaces/CP1-24-final/jkblc/data/F18_sinewalk.md', '/workspaces/CP1-24-final/jkblc/data/F20_sinewalk.md', '/workspaces/CP1-24-final/jkblc/data/F16_sinewalk.md', '/workspaces/CP1-24-final/jkblc/data/F12_sinewalk.md', '/workspaces/CP1-24-final/jkblc/data/F07_sinewalk.md', '/workspaces/CP1-24-final/jkblc/data/F06_sinewalk.md', '/workspaces/CP1-24-final/jkblc/data/F19_sinewalk.md', '/workspaces/CP1-24-final/jkblc/data/F01_sinewalk.md', '/workspaces/CP1-24-final/jkblc/data/F17_sinewalk.md', '/workspaces/CP1-24-final/jkblc/data/F14_sinewalk.md', '/workspaces/CP1-24-final/jkblc/data/F13_sinewalk.md', '/workspaces/CP1-24-final/jkblc/data/F03_sinewalk.md', '/workspaces/CP1-24-final/jkblc/data/F02_sinewalk.md', '/workspaces/CP1-24-final/jkblc/data/F04_sinewalk.md', '/workspaces/CP1-24-final/jkblc/data/F05_sinewalk.md', '/workspaces/CP1-24-final/jkblc/data/F10_sinewalk.md', '/workspaces/CP1-24-final/jkblc/data/F11_sinewalk.md']\n",
      "Found 20 markdown files.\n"
     ]
    },
    {
     "ename": "ValueError",
     "evalue": "Temperature not found in file.",
     "output_type": "error",
     "traceback": [
      "\u001b[0;31m---------------------------------------------------------------------------\u001b[0m",
      "\u001b[0;31mValueError\u001b[0m                                Traceback (most recent call last)",
      "Cell \u001b[0;32mIn[29], line 21\u001b[0m\n\u001b[1;32m     19\u001b[0m     \u001b[38;5;28;01mraise\u001b[39;00m \u001b[38;5;167;01mFileNotFoundError\u001b[39;00m(\u001b[38;5;124mf\u001b[39m\u001b[38;5;124m\"\u001b[39m\u001b[38;5;124mMarkdown file not found: \u001b[39m\u001b[38;5;132;01m{\u001b[39;00mfile\u001b[38;5;132;01m}\u001b[39;00m\u001b[38;5;124m\"\u001b[39m)\n\u001b[1;32m     20\u001b[0m \u001b[38;5;66;03m# Extract the temperature\u001b[39;00m\n\u001b[0;32m---> 21\u001b[0m temperature_f \u001b[38;5;241m=\u001b[39m \u001b[43mparse_temperature_from_markdown\u001b[49m\u001b[43m(\u001b[49m\u001b[43mfile\u001b[49m\u001b[43m)\u001b[49m\n\u001b[1;32m     22\u001b[0m \u001b[38;5;28mprint\u001b[39m(\u001b[38;5;124mf\u001b[39m\u001b[38;5;124m\"\u001b[39m\u001b[38;5;124mExtracted Temperature in Fahrenheit: \u001b[39m\u001b[38;5;132;01m{\u001b[39;00mtemperature_f\u001b[38;5;132;01m}\u001b[39;00m\u001b[38;5;124m\"\u001b[39m)\n\u001b[1;32m     23\u001b[0m temperature_k \u001b[38;5;241m=\u001b[39m (temperature_f \u001b[38;5;241m-\u001b[39m \u001b[38;5;241m32\u001b[39m) \u001b[38;5;241m*\u001b[39m \u001b[38;5;241m5\u001b[39m \u001b[38;5;241m/\u001b[39m \u001b[38;5;241m9\u001b[39m \u001b[38;5;241m+\u001b[39m \u001b[38;5;241m273.15\u001b[39m\n",
      "File \u001b[0;32m/workspaces/CP1-24-final/jkblc/code/final.py:37\u001b[0m, in \u001b[0;36mparse_temperature_from_markdown\u001b[0;34m(file_path)\u001b[0m\n\u001b[1;32m     35\u001b[0m     \u001b[38;5;28;01mif\u001b[39;00m match:\n\u001b[1;32m     36\u001b[0m         \u001b[38;5;28;01mreturn\u001b[39;00m \u001b[38;5;28mfloat\u001b[39m(match\u001b[38;5;241m.\u001b[39mgroup(\u001b[38;5;241m1\u001b[39m))\n\u001b[0;32m---> 37\u001b[0m \u001b[38;5;28;01mraise\u001b[39;00m \u001b[38;5;167;01mValueError\u001b[39;00m(\u001b[38;5;124m\"\u001b[39m\u001b[38;5;124mTemperature not found in file.\u001b[39m\u001b[38;5;124m\"\u001b[39m)\n",
      "\u001b[0;31mValueError\u001b[0m: Temperature not found in file."
     ]
    },
    {
     "data": {
      "text/plain": [
       "<Figure size 1200x800 with 0 Axes>"
      ]
     },
     "metadata": {},
     "output_type": "display_data"
    }
   ],
   "source": [
    "\n",
    "# Fix the data folder path relative to the notebook's directory\n",
    "data_folder = os.path.abspath(os.path.join('..', 'data'))\n",
    "\n",
    "# Verify the folder exists\n",
    "if not os.path.exists(data_folder):\n",
    "    raise FileNotFoundError(f\"Data folder not found: {data_folder}\")\n",
    "\n",
    "# List markdown files\n",
    "markdown_files = list_markdown_files(data_folder, keyword=\"md\")\n",
    "print(markdown_files)\n",
    "print(f\"Found {len(markdown_files)} markdown files.\")\n",
    "\n",
    "\n",
    "plt.figure(figsize=(12, 8))\n",
    "for file in markdown_files:\n",
    "    # Read the temperature from the markdown file\n",
    "    # Check if the file exists before parsing\n",
    "    if not os.path.exists(file):\n",
    "        raise FileNotFoundError(f\"Markdown file not found: {file}\")\n",
    "    # Extract the temperature\n",
    "    temperature_f = parse_temperature_from_markdown(file)\n",
    "    print(f\"Extracted Temperature in Fahrenheit: {temperature_f}\")\n",
    "    temperature_k = (temperature_f - 32) * 5 / 9 + 273.15\n",
    "\n",
    "    # Simulate GPS data loading from a CSV file\n",
    "    csv_file = file.replace(\".md\", \".csv\")\n",
    "    if os.path.exists(csv_file):\n",
    "        data = np.loadtxt(csv_file, delimiter=\",\", skiprows=1)\n",
    "        x_data, y_data = data[:, 0], data[:, 1]\n",
    "\n",
    "        # Perform non-linear fitting\n",
    "        initial_guess = (1, 1, 0, 0)\n",
    "        popt, _ = non_linear_fit(x_data, y_data, initial_guess)\n",
    "\n",
    "        # Plot GPS motion and the fit\n",
    "        plt.scatter(x_data, y_data, label=f\"Run {file} (T={temperature_k:.2f} K)\", alpha=0.6)\n",
    "        plt.plot(x_data, popt[0] * np.sin(popt[1] * x_data + popt[2]) + popt[3], color=\"red\")\n",
    "\n",
    "plt.title(\"GPS Motion with Non-Linear Fit\")\n",
    "plt.xlabel(\"Position (m)\")\n",
    "plt.ylabel(\"Displacement (m)\")\n",
    "plt.legend()\n",
    "plt.grid(True)\n",
    "plt.show()\n"
   ]
  },
  {
   "cell_type": "code",
   "execution_count": null,
   "id": "ce4b56da",
   "metadata": {},
   "outputs": [],
   "source": [
    "\n",
    "# Perform FFT on GPS Data\n",
    "plt.figure(figsize=(12, 8))\n",
    "for file in markdown_files:\n",
    "    csv_file = file.replace(\".md\", \".csv\")\n",
    "    if os.path.exists(csv_file):\n",
    "        data = np.loadtxt(csv_file, delimiter=\",\", skiprows=1)\n",
    "        x_data, y_data = data[:, 0], data[:, 1]\n",
    "\n",
    "        # Perform FFT\n",
    "        fft_y, freq = fft_with_check(x_data, y_data)\n",
    "\n",
    "        # Plot FFT\n",
    "        plt.plot(calculate_frequency_axis(len(y_data), x_data[1] - x_data[0]), np.abs(fft_y[:len(y_data)//2]), label=f\"Run {file}\")\n",
    "\n",
    "plt.title(\"FFT Analysis of GPS Walks\")\n",
    "plt.xlabel(\"Frequency (1/100m)\")\n",
    "plt.ylabel(\"Amplitude\")\n",
    "plt.legend()\n",
    "plt.grid(True)\n",
    "plt.show()\n"
   ]
  },
  {
   "cell_type": "code",
   "execution_count": null,
   "id": "e386b6b5",
   "metadata": {},
   "outputs": [],
   "source": [
    "\n",
    "# Perform Inverse FFT on the Average of All Walks\n",
    "mean_y = np.mean([np.loadtxt(file.replace(\".md\", \".csv\"), delimiter=\",\", skiprows=1)[:, 1] for file in markdown_files], axis=0)\n",
    "\n",
    "fft_mean, _ = fft_with_check(np.arange(len(mean_y)), mean_y)\n",
    "inv_fft = inverse_fft(fft_mean)\n",
    "\n",
    "plt.figure(figsize=(12, 8))\n",
    "plt.plot(mean_y, label=\"Mean Sine Walk Data\", color=\"blue\")\n",
    "plt.plot(inv_fft, label=\"Inverse FFT of Mean\", color=\"orange\")\n",
    "plt.title(\"Inverse FFT of Filtered Mean Value\")\n",
    "plt.xlabel(\"Position (m)\")\n",
    "plt.ylabel(\"Displacement (m)\")\n",
    "plt.legend()\n",
    "plt.grid(True)\n",
    "plt.show()\n"
   ]
  }
 ],
 "metadata": {
  "kernelspec": {
   "display_name": "Python 3",
   "language": "python",
   "name": "python3"
  },
  "language_info": {
   "codemirror_mode": {
    "name": "ipython",
    "version": 3
   },
   "file_extension": ".py",
   "mimetype": "text/x-python",
   "name": "python",
   "nbconvert_exporter": "python",
   "pygments_lexer": "ipython3",
   "version": "3.12.1"
  }
 },
 "nbformat": 4,
 "nbformat_minor": 5
}
