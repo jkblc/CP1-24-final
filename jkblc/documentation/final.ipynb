{
 "cells": [
  {
   "cell_type": "markdown",
   "id": "2aff4053",
   "metadata": {},
   "source": [
    "\n",
    "# **Final Project Documentation: GPS Motion Analysis**\n",
    "\n",
    "This Jupyter Notebook contains the documentation for the final project. It includes an analysis of GPS motion data collected using the Phyphox app, with corresponding figures generated through Python functions implemented in `final.py`.\n",
    "\n",
    "---\n",
    "\n",
    "## **How to Run the Code**\n",
    "\n",
    "1. **Set Up the Environment:**\n",
    "   - Clone the repository and navigate to the project folder.\n",
    "   - Install the required dependencies using `pip install -r code/requirements.txt`.\n",
    "\n",
    "2. **Run This Notebook:**\n",
    "   - Launch Jupyter Notebook with `jupyter notebook documentation/final.ipynb`.\n",
    "\n",
    "3. **Expected Output:**\n",
    "   - Figures of GPS motion analysis, FFT analysis, and inverse FFT.\n",
    "\n",
    "---\n",
    "\n",
    "## **Bibliography**\n",
    "\n",
    "- Phyphox App Documentation: [https://phyphox.org](https://phyphox.org)\n",
    "- SciPy Documentation: [https://scipy.org](https://scipy.org)\n",
    "- NumPy Documentation: [https://numpy.org](https://numpy.org)\n",
    "- Matplotlib Documentation: [https://matplotlib.org](https://matplotlib.org)\n"
   ]
  },
  {
   "cell_type": "code",
   "execution_count": 8,
   "id": "fbadb22d",
   "metadata": {},
   "outputs": [
    {
     "ename": "ModuleNotFoundError",
     "evalue": "No module named 'final'",
     "output_type": "error",
     "traceback": [
      "\u001b[0;31m---------------------------------------------------------------------------\u001b[0m",
      "\u001b[0;31mModuleNotFoundError\u001b[0m                       Traceback (most recent call last)",
      "Cell \u001b[0;32mIn[8], line 5\u001b[0m\n\u001b[1;32m      3\u001b[0m \u001b[38;5;28;01mimport\u001b[39;00m \u001b[38;5;21;01mmatplotlib\u001b[39;00m\u001b[38;5;21;01m.\u001b[39;00m\u001b[38;5;21;01mpyplot\u001b[39;00m \u001b[38;5;28;01mas\u001b[39;00m \u001b[38;5;21;01mplt\u001b[39;00m\n\u001b[1;32m      4\u001b[0m \u001b[38;5;28;01mfrom\u001b[39;00m \u001b[38;5;21;01mscipy\u001b[39;00m\u001b[38;5;21;01m.\u001b[39;00m\u001b[38;5;21;01moptimize\u001b[39;00m \u001b[38;5;28;01mimport\u001b[39;00m curve_fit\n\u001b[0;32m----> 5\u001b[0m \u001b[38;5;28;01mfrom\u001b[39;00m \u001b[38;5;21;01mfinal\u001b[39;00m \u001b[38;5;28;01mimport\u001b[39;00m (\n\u001b[1;32m      6\u001b[0m     parse_temperature_from_markdown,\n\u001b[1;32m      7\u001b[0m     list_markdown_files,\n\u001b[1;32m      8\u001b[0m     non_linear_fit,\n\u001b[1;32m      9\u001b[0m     fft_with_check,\n\u001b[1;32m     10\u001b[0m     inverse_fft,\n\u001b[1;32m     11\u001b[0m     calculate_frequency_axis\n\u001b[1;32m     12\u001b[0m )\n",
      "\u001b[0;31mModuleNotFoundError\u001b[0m: No module named 'final'"
     ]
    }
   ],
   "source": [
    "\n",
    "import os\n",
    "import numpy as np\n",
    "import matplotlib.pyplot as plt\n",
    "from scipy.optimize import curve_fit\n",
    "from final import (\n",
    "    parse_temperature_from_markdown,\n",
    "    list_markdown_files,\n",
    "    non_linear_fit,\n",
    "    fft_with_check,\n",
    "    inverse_fft,\n",
    "    calculate_frequency_axis\n",
    ")\n"
   ]
  },
  {
   "cell_type": "code",
   "execution_count": null,
   "id": "5f3809f4",
   "metadata": {},
   "outputs": [],
   "source": [
    "\n",
    "# Load Data and Plot GPS Motion\n",
    "data_folder = \"data\"\n",
    "markdown_files = list_markdown_files(data_folder, keyword=\"sinewalk\")\n",
    "\n",
    "plt.figure(figsize=(12, 8))\n",
    "for file in markdown_files:\n",
    "    # Read the temperature from the markdown file\n",
    "    temperature_f = parse_temperature_from_markdown(file)\n",
    "    temperature_k = (temperature_f - 32) * 5 / 9 + 273.15\n",
    "\n",
    "    # Simulate GPS data loading from a CSV file\n",
    "    csv_file = file.replace(\".md\", \".csv\")\n",
    "    if os.path.exists(csv_file):\n",
    "        data = np.loadtxt(csv_file, delimiter=\",\", skiprows=1)\n",
    "        x_data, y_data = data[:, 0], data[:, 1]\n",
    "\n",
    "        # Perform non-linear fitting\n",
    "        initial_guess = (1, 1, 0, 0)\n",
    "        popt, _ = non_linear_fit(x_data, y_data, initial_guess)\n",
    "\n",
    "        # Plot GPS motion and the fit\n",
    "        plt.scatter(x_data, y_data, label=f\"Run {file} (T={temperature_k:.2f} K)\", alpha=0.6)\n",
    "        plt.plot(x_data, popt[0] * np.sin(popt[1] * x_data + popt[2]) + popt[3], color=\"red\")\n",
    "\n",
    "plt.title(\"GPS Motion with Non-Linear Fit\")\n",
    "plt.xlabel(\"Position (m)\")\n",
    "plt.ylabel(\"Displacement (m)\")\n",
    "plt.legend()\n",
    "plt.grid(True)\n",
    "plt.show()\n"
   ]
  },
  {
   "cell_type": "code",
   "execution_count": null,
   "id": "ce4b56da",
   "metadata": {},
   "outputs": [],
   "source": [
    "\n",
    "# Perform FFT on GPS Data\n",
    "plt.figure(figsize=(12, 8))\n",
    "for file in markdown_files:\n",
    "    csv_file = file.replace(\".md\", \".csv\")\n",
    "    if os.path.exists(csv_file):\n",
    "        data = np.loadtxt(csv_file, delimiter=\",\", skiprows=1)\n",
    "        x_data, y_data = data[:, 0], data[:, 1]\n",
    "\n",
    "        # Perform FFT\n",
    "        fft_y, freq = fft_with_check(x_data, y_data)\n",
    "\n",
    "        # Plot FFT\n",
    "        plt.plot(calculate_frequency_axis(len(y_data), x_data[1] - x_data[0]), np.abs(fft_y[:len(y_data)//2]), label=f\"Run {file}\")\n",
    "\n",
    "plt.title(\"FFT Analysis of GPS Walks\")\n",
    "plt.xlabel(\"Frequency (1/100m)\")\n",
    "plt.ylabel(\"Amplitude\")\n",
    "plt.legend()\n",
    "plt.grid(True)\n",
    "plt.show()\n"
   ]
  },
  {
   "cell_type": "code",
   "execution_count": null,
   "id": "e386b6b5",
   "metadata": {},
   "outputs": [],
   "source": [
    "\n",
    "# Perform Inverse FFT on the Average of All Walks\n",
    "mean_y = np.mean([np.loadtxt(file.replace(\".md\", \".csv\"), delimiter=\",\", skiprows=1)[:, 1] for file in markdown_files], axis=0)\n",
    "\n",
    "fft_mean, _ = fft_with_check(np.arange(len(mean_y)), mean_y)\n",
    "inv_fft = inverse_fft(fft_mean)\n",
    "\n",
    "plt.figure(figsize=(12, 8))\n",
    "plt.plot(mean_y, label=\"Mean Sine Walk Data\", color=\"blue\")\n",
    "plt.plot(inv_fft, label=\"Inverse FFT of Mean\", color=\"orange\")\n",
    "plt.title(\"Inverse FFT of Filtered Mean Value\")\n",
    "plt.xlabel(\"Position (m)\")\n",
    "plt.ylabel(\"Displacement (m)\")\n",
    "plt.legend()\n",
    "plt.grid(True)\n",
    "plt.show()\n"
   ]
  }
 ],
 "metadata": {
  "kernelspec": {
   "display_name": "Python 3",
   "language": "python",
   "name": "python3"
  },
  "language_info": {
   "codemirror_mode": {
    "name": "ipython",
    "version": 3
   },
   "file_extension": ".py",
   "mimetype": "text/x-python",
   "name": "python",
   "nbconvert_exporter": "python",
   "pygments_lexer": "ipython3",
   "version": "3.12.1"
  }
 },
 "nbformat": 4,
 "nbformat_minor": 5
}
